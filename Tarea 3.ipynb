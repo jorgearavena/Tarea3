{
 "cells": [
  {
   "cell_type": "code",
   "execution_count": 256,
   "id": "22774a6a",
   "metadata": {},
   "outputs": [],
   "source": [
    "from numpy import *\n",
    "import numpy as np\n"
   ]
  },
  {
   "cell_type": "markdown",
   "id": "690df3e9",
   "metadata": {},
   "source": [
    "Parte 1"
   ]
  },
  {
   "cell_type": "markdown",
   "id": "9e248bfb",
   "metadata": {},
   "source": [
    "1.-"
   ]
  },
  {
   "cell_type": "code",
   "execution_count": 128,
   "id": "ca14de2b",
   "metadata": {},
   "outputs": [],
   "source": [
    "def calcular_distancia(punto1, punto2):\n",
    "    x1,y1 = punto1\n",
    "    x2,y2 = punto2\n",
    "    distancia = math.sqrt((x2 - x1)**2 + (y2 - y1)**2)\n",
    "    \n",
    "    print(f\"Distancia:{distancia}\")\n",
    "    \n",
    "\n"
   ]
  },
  {
   "cell_type": "code",
   "execution_count": 129,
   "id": "987bf056",
   "metadata": {},
   "outputs": [
    {
     "name": "stdout",
     "output_type": "stream",
     "text": [
      "Distancia:3.1622776601683795\n"
     ]
    }
   ],
   "source": [
    "punto1 = (0, 0)\n",
    "punto2 = (1, 3)\n",
    "distancia = calcular_distancia(punto1, punto2)\n",
    "\n"
   ]
  },
  {
   "cell_type": "markdown",
   "id": "b201e101",
   "metadata": {},
   "source": [
    "2.-"
   ]
  },
  {
   "cell_type": "code",
   "execution_count": 174,
   "id": "ba290cb6",
   "metadata": {},
   "outputs": [],
   "source": [
    "def calcular_distancia(punto1, punto2):\n",
    "    x1, y1 = punto1\n",
    "    x2, y2 = punto2\n",
    "    distancia = math.sqrt((x2 - x1)**2 + (y2 - y1)**2)\n",
    "    return distancia\n",
    "\n",
    "def calcular_distancia_total(ruta):\n",
    "    distancia_total = 0\n",
    "    for i in range(len(ruta) - 1):\n",
    "        distancia_total += calcular_distancia(ruta[i], ruta[i+1])\n",
    "    print(f\"Distancia total: {distancia_total}\")\n",
    "  \n",
    "\n",
    "\n",
    "\n",
    "\n"
   ]
  },
  {
   "cell_type": "code",
   "execution_count": 175,
   "id": "b06ede7a",
   "metadata": {},
   "outputs": [
    {
     "name": "stdout",
     "output_type": "stream",
     "text": [
      "Distancia total: 8.81913190966076\n"
     ]
    }
   ],
   "source": [
    "ruta = [(0, 0), (1, 3), (3, 5), (5, 3)]\n",
    "distancia_total = calcular_distancia_total(ruta)\n",
    "\n"
   ]
  },
  {
   "cell_type": "markdown",
   "id": "9875ed05",
   "metadata": {},
   "source": [
    "3.-"
   ]
  },
  {
   "cell_type": "code",
   "execution_count": 288,
   "id": "5aca9982",
   "metadata": {},
   "outputs": [],
   "source": [
    "def calcular_distancia(punto1, punto2):\n",
    "    x1, y1 = punto1\n",
    "    x2, y2 = punto2\n",
    "    distancia = math.sqrt((x2 - x1)**2 + (y2 - y1)**2)\n",
    "    return distancia\n",
    "\n",
    "def calcular_distancia_total(ruta):\n",
    "    distancia_total = 0\n",
    "    for i in range(len(ruta) - 1):\n",
    "        distancia_total += calcular_distancia(ruta[i], ruta[i+1])\n",
    "    return distancia_total\n",
    "\n",
    "def optimizacion_ruta(rutas):\n",
    "    distancia_rutas = zeros((len(rutas)))\n",
    "    for i in range(len(rutas)):\n",
    "        hola = calcular_distancia_total(rutas[i])\n",
    "        distancia_rutas[i] = hola\n",
    "    minimo = np.min(x)\n",
    "    posicion = np.where(x == minimo)[0][0]\n",
    "    print(f\"Ruta optimizada: {rutas[posicion]}\")\n",
    " \n",
    "    \n",
    "\n",
    "    \n",
    "\n",
    "       \n",
    "    \n",
    "    \n",
    "    \n"
   ]
  },
  {
   "cell_type": "code",
   "execution_count": 289,
   "id": "bb4cb285",
   "metadata": {},
   "outputs": [
    {
     "name": "stdout",
     "output_type": "stream",
     "text": [
      "Ruta optimizada: [(0, 0), (1, 3), (3, 5), (5, 2)]\n"
     ]
    }
   ],
   "source": [
    "rutas = [[(0,0), (1,3), (3,5), (5,2)],\n",
    "         [(0,0), (3,5), (1,3), (5,2)],\n",
    "         [(0,0), (3,5), (5,2), (1,3)]]\n",
    "\n",
    "x=optimizacion_ruta(rutas)"
   ]
  },
  {
   "cell_type": "markdown",
   "id": "dafd51cf",
   "metadata": {},
   "source": [
    "Parte 2"
   ]
  },
  {
   "cell_type": "code",
   "execution_count": 221,
   "id": "f08d17d1",
   "metadata": {},
   "outputs": [],
   "source": [
    "class libro():\n",
    "    def __init__(self, titulo, autor):\n",
    "        self.titulo = titulo\n",
    "        self.autor = autor\n",
    "        self.disponibilidad = \"Si\"\n",
    "        \n",
    "    def obtener_titulo(self):\n",
    "        return self.titulo\n",
    "\n",
    "    def obtener_autor(self):\n",
    "        return self.autor\n",
    "\n",
    "    def esta_disponible(self):\n",
    "        return self.disponibilidad\n",
    "    \n",
    "    def libro_prestado(self):\n",
    "        if self.disponibilidad == \"Si\":\n",
    "            print(\"El libro {} del autor {} ha sido prestado\".format(self.titulo,self.autor))\n",
    "            self.disponibilidad = \"No\"\n",
    "            \n",
    "        else:\n",
    "            print(\"El libro {} del autor {} no esta disponible\".format(self.titulo,self.autor))\n",
    "            \n",
    "    def devolver_libro(self):\n",
    "        if self.disponibilidad == \"No\":\n",
    "            print(\"El libro {} del autor {} ha sido devuelto\".format(self.titulo,self.autor))\n",
    "            self.disponibilidad = \"Si\"\n",
    "        else:\n",
    "            print(\"Error, El libro {} del autor {} ya esta disponible\".format(self.titulo,self.autor))\n",
    "    "
   ]
  },
  {
   "cell_type": "code",
   "execution_count": 226,
   "id": "b75a6330",
   "metadata": {
    "scrolled": true
   },
   "outputs": [
    {
     "name": "stdout",
     "output_type": "stream",
     "text": [
      "libro 1: Veinte poemas de amor y una cancion desesperada del autor Pablo Neruda\n",
      "Disponibilidad: Si\n",
      "libro 2: Don Quijote de la mancha del autor Miguel de cervantes\n",
      "Disponibilidad: Si\n"
     ]
    }
   ],
   "source": [
    "libro1 = libro(\"Veinte poemas de amor y una cancion desesperada\",\"Pablo Neruda\")\n",
    "libro2 = libro(\"Don Quijote de la mancha\",\"Miguel de cervantes\")\n",
    "\n",
    "print(\"libro 1: {} del autor {}\".format(libro1.obtener_titulo(),libro1.obtener_autor()))\n",
    "print(\"Disponibilidad: {}\".format(libro1.esta_disponible()))\n",
    "\n",
    "print(\"libro 2: {} del autor {}\".format(libro2.obtener_titulo(),libro2.obtener_autor()))\n",
    "print(\"Disponibilidad: {}\".format(libro2.esta_disponible()))\n",
    "\n",
    "\n"
   ]
  },
  {
   "cell_type": "code",
   "execution_count": 223,
   "id": "a2da8f12",
   "metadata": {
    "scrolled": true
   },
   "outputs": [
    {
     "name": "stdout",
     "output_type": "stream",
     "text": [
      "El libro Veinte poemas de amor y una cancion desesperada del autor Pablo Neruda ha sido prestado\n",
      "Libro1: Veinte poemas de amor y una cancion desesperada del autor Pablo Neruda\n",
      "Disponibilidad: No\n"
     ]
    }
   ],
   "source": [
    "libro1.libro_prestado()\n",
    "\n",
    "print(\"Libro1: {} del autor {}\".format(libro1.obtener_titulo(),libro1.obtener_autor()))\n",
    "print(\"Disponibilidad: {}\".format(libro1.esta_disponible()))"
   ]
  },
  {
   "cell_type": "code",
   "execution_count": 224,
   "id": "64f2f549",
   "metadata": {},
   "outputs": [
    {
     "name": "stdout",
     "output_type": "stream",
     "text": [
      "El libro Veinte poemas de amor y una cancion desesperada del autor Pablo Neruda no esta disponible\n",
      "Libro1: Veinte poemas de amor y una cancion desesperada del autor Pablo Neruda\n",
      "Disponibilidad: No\n"
     ]
    }
   ],
   "source": [
    "libro1.libro_prestado()\n",
    "\n",
    "print(\"Libro1: {} del autor {}\".format(libro1.obtener_titulo(),libro1.obtener_autor()))\n",
    "print(\"Disponibilidad: {}\".format(libro1.esta_disponible()))"
   ]
  },
  {
   "cell_type": "code",
   "execution_count": 225,
   "id": "69b35565",
   "metadata": {},
   "outputs": [
    {
     "name": "stdout",
     "output_type": "stream",
     "text": [
      "El libro Veinte poemas de amor y una cancion desesperada del autor Pablo Neruda ha sido devuelto\n",
      "Libro1: Veinte poemas de amor y una cancion desesperada del autor Pablo Neruda\n",
      "Disponibilidad: Si\n"
     ]
    }
   ],
   "source": [
    "libro1.devolver_libro()\n",
    "\n",
    "print(\"Libro1: {} del autor {}\".format(libro1.obtener_titulo(),libro1.obtener_autor()))\n",
    "print(\"Disponibilidad: {}\".format(libro1.esta_disponible()))"
   ]
  },
  {
   "cell_type": "code",
   "execution_count": 227,
   "id": "dc417d65",
   "metadata": {
    "scrolled": true
   },
   "outputs": [
    {
     "name": "stdout",
     "output_type": "stream",
     "text": [
      "Error, El libro Don Quijote de la mancha del autor Miguel de cervantes ya esta disponible\n",
      "Libro2: Don Quijote de la mancha del autor Miguel de cervantes\n",
      "Disponibilidad: Si\n"
     ]
    }
   ],
   "source": [
    "libro2.devolver_libro()\n",
    "\n",
    "print(\"Libro2: {} del autor {}\".format(libro2.obtener_titulo(),libro2.obtener_autor()))\n",
    "print(\"Disponibilidad: {}\".format(libro2.esta_disponible()))"
   ]
  }
 ],
 "metadata": {
  "kernelspec": {
   "display_name": "Python 3 (ipykernel)",
   "language": "python",
   "name": "python3"
  },
  "language_info": {
   "codemirror_mode": {
    "name": "ipython",
    "version": 3
   },
   "file_extension": ".py",
   "mimetype": "text/x-python",
   "name": "python",
   "nbconvert_exporter": "python",
   "pygments_lexer": "ipython3",
   "version": "3.10.9"
  }
 },
 "nbformat": 4,
 "nbformat_minor": 5
}
